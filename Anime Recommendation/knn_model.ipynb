{
 "cells": [
  {
   "cell_type": "code",
   "execution_count": 31,
   "metadata": {
    "executionInfo": {
     "elapsed": 259,
     "status": "ok",
     "timestamp": 1654537450857,
     "user": {
      "displayName": "Nuria Anton Calle",
      "userId": "01763984626458896991"
     },
     "user_tz": -120
    },
    "id": "PXJlT6dihq_D"
   },
   "outputs": [],
   "source": [
    "import numpy as np                     # Llibreria matemÃ tica\n",
    "import matplotlib.pyplot as plt        # Per mostrar plots\n",
    "import sklearn as pre                     # Llibreia de DM\n",
    "import sklearn.datasets as ds            # Per carregar mÃ©s facilment el dataset digits\n",
    "import sklearn.model_selection as cv    # Pel Cross-validation\n",
    "import sklearn.neighbors as nb           # Per fer servir el knn\n",
    "%matplotlib inline  "
   ]
  },
  {
   "cell_type": "code",
   "execution_count": 33,
   "metadata": {
    "colab": {
     "base_uri": "https://localhost:8080/",
     "height": 283
    },
    "executionInfo": {
     "elapsed": 5,
     "status": "ok",
     "timestamp": 1654537453471,
     "user": {
      "displayName": "Nuria Anton Calle",
      "userId": "01763984626458896991"
     },
     "user_tz": -120
    },
    "id": "c7Xy_xH9iCly",
    "outputId": "108b807c-ad73-4c73-e9c5-4be702acffa1"
   },
   "outputs": [
    {
     "data": {
      "text/plain": [
       "<matplotlib.axes._subplots.AxesSubplot at 0x7f3850ca7710>"
      ]
     },
     "execution_count": 33,
     "metadata": {},
     "output_type": "execute_result"
    },
    {
     "data": {
      "image/png": "[encoded data removed]",
      "text/plain": [
       "<Figure size 432x288 with 1 Axes>"
      ]
     },
     "metadata": {
      "needs_background": "light"
     },
     "output_type": "display_data"
    }
   ],
   "source": [
    "#load the data\n",
    "import pandas as pd\n",
    "data = pd.read_csv('prep_data.csv')\n",
    "data.head()\n",
    "data[\"completed_ratio\"].hist(bins=15)"
   ]
  },
  {
   "cell_type": "code",
   "execution_count": 34,
   "metadata": {
    "executionInfo": {
     "elapsed": 233,
     "status": "ok",
     "timestamp": 1654537553456,
     "user": {
      "displayName": "Nuria Anton Calle",
      "userId": "01763984626458896991"
     },
     "user_tz": -120
    },
    "id": "7J8RDP-ElQRT"
   },
   "outputs": [],
   "source": [
    "#select the target from the data \n",
    "X = data.drop(\"completed_ratio\", axis=1)\n",
    "X = X.values\n",
    "y = data[\"completed_ratio\"]\n",
    "y = y.values\n"
   ]
  },
  {
   "cell_type": "code",
   "execution_count": 35,
   "metadata": {
    "colab": {
     "base_uri": "https://localhost:8080/"
    },
    "executionInfo": {
     "elapsed": 4,
     "status": "ok",
     "timestamp": 1654537554241,
     "user": {
      "displayName": "Nuria Anton Calle",
      "userId": "01763984626458896991"
     },
     "user_tz": -120
    },
    "id": "uuAnCTcPlnAt",
    "outputId": "0b8d712d-7b33-4752-f4c7-85923a3dc3a0"
   },
   "outputs": [
    {
     "name": "stdout",
     "output_type": "stream",
     "text": [
      "0.63\n"
     ]
    }
   ],
   "source": [
    "#do our first knn train\n",
    "(X_train, X_test,  y_train, y_test) = cv.train_test_split(X, y, test_size=.3, random_state=1)\n",
    "knc = nb.KNeighborsClassifier()\n",
    "knc.fit(X_train, y_train)\n",
    "print(knc.score(X_test, y_test))"
   ]
  },
  {
   "cell_type": "code",
   "execution_count": 36,
   "metadata": {
    "colab": {
     "base_uri": "https://localhost:8080/"
    },
    "executionInfo": {
     "elapsed": 3,
     "status": "ok",
     "timestamp": 1654537555018,
     "user": {
      "displayName": "Nuria Anton Calle",
      "userId": "01763984626458896991"
     },
     "user_tz": -120
    },
    "id": "H-j4WQdm7KjS",
    "outputId": "84240968-d45e-41d9-a4b6-0ad5711855fd"
   },
   "outputs": [
    {
     "name": "stdout",
     "output_type": "stream",
     "text": [
      "[[163   2  24   0]\n",
      " [  1   1  10   0]\n",
      " [ 68   1  23   3]\n",
      " [  0   0   2   2]]\n",
      "              precision    recall  f1-score   support\n",
      "\n",
      "        High       0.70      0.86      0.77       189\n",
      "         Low       0.25      0.08      0.12        12\n",
      "      Medium       0.39      0.24      0.30        95\n",
      "    Very low       0.40      0.50      0.44         4\n",
      "\n",
      "    accuracy                           0.63       300\n",
      "   macro avg       0.44      0.42      0.41       300\n",
      "weighted avg       0.58      0.63      0.59       300\n",
      "\n"
     ]
    }
   ],
   "source": [
    "# as we can see at the confusion matrix and at the report, we have problems predicting low and medium values.\n",
    "# specially we have problem with the medium because, as we can see at matrix, there are a lot false positives and false negatives.\n",
    "from sklearn.metrics import confusion_matrix\n",
    "from sklearn import metrics\n",
    "y_pred = knc.predict(X_test)\n",
    "print(confusion_matrix(y_test, y_pred))\n",
    "\n",
    "\n",
    "print(metrics.classification_report(y_test, y_pred))"
   ]
  },
  {
   "cell_type": "code",
   "execution_count": 37,
   "metadata": {
    "colab": {
     "base_uri": "https://localhost:8080/",
     "height": 207
    },
    "executionInfo": {
     "elapsed": 1084,
     "status": "ok",
     "timestamp": 1654537623638,
     "user": {
      "displayName": "Nuria Anton Calle",
      "userId": "01763984626458896991"
     },
     "user_tz": -120
    },
    "id": "AkdmZVTd7gpn",
    "outputId": "d6fbb86f-4765-4e66-b266-b47445004332"
   },
   "outputs": [
    {
     "data": {
      "image/png": "[encoded data removed]",
      "text/plain": [
       "<Figure size 180x180 with 1 Axes>"
      ]
     },
     "metadata": {
      "needs_background": "light"
     },
     "output_type": "display_data"
    },
    {
     "name": "stdout",
     "output_type": "stream",
     "text": [
      "0.593\n"
     ]
    }
   ],
   "source": [
    "#to analize the cross validation\n",
    "# Build confussion matrix of all 10 cross-validations\n",
    "predicted = cv.cross_val_predict(nb.KNeighborsClassifier(), X=X, y=y,  cv=10)  \n",
    "\n",
    "\n",
    "confmat = confusion_matrix(y, predicted)\n",
    "\n",
    "fig, ax = plt.subplots(figsize=(2.5, 2.5))\n",
    "ax.matshow(confmat, cmap=plt.cm.Blues, alpha=0.3)\n",
    "for i in range(confmat.shape[0]):\n",
    "    for j in range(confmat.shape[1]):\n",
    "        ax.text(x=j, y=i, s=confmat[i, j], va='center', ha='center',fontsize=7)\n",
    "\n",
    "plt.xlabel('Predicted label')\n",
    "plt.ylabel('True label')\n",
    "\n",
    "plt.tight_layout()\n",
    "plt.savefig('ConMatrix.png', dpi=600)\n",
    "plt.show()\n",
    "print(metrics.accuracy_score(y, predicted))\n",
    "#as we see before, we have a lot of problems with the medium values."
   ]
  },
  {
   "cell_type": "code",
   "execution_count": 39,
   "metadata": {
    "colab": {
     "base_uri": "https://localhost:8080/"
    },
    "executionInfo": {
     "elapsed": 4519,
     "status": "ok",
     "timestamp": 1654537717114,
     "user": {
      "displayName": "Nuria Anton Calle",
      "userId": "01763984626458896991"
     },
     "user_tz": -120
    },
    "id": "ZpssUFArCVdA",
    "outputId": "5b06c990-9ca3-48ca-b781-5e9a9f3c7fd7"
   },
   "outputs": [
    {
     "name": "stdout",
     "output_type": "stream",
     "text": [
      "Best Params= {'n_neighbors': 16, 'weights': 'uniform'} Accuracy= 0.6299999999999999\n"
     ]
    }
   ],
   "source": [
    "#if we execute the gridSearch, we obtain that the best parameters are different as before\n",
    "from sklearn.model_selection import GridSearchCV\n",
    "(X_train, X_test,  y_train, y_test) = cv.train_test_split(X, y, test_size=.3, random_state=1)\n",
    "params = {'n_neighbors':list(range(1,30,1)), 'weights':('distance','uniform')}\n",
    "knc = nb.KNeighborsClassifier()\n",
    "clf = GridSearchCV(knc, param_grid=params,cv=10,n_jobs=-1)  # If cv is integer, by default is Stratifyed \n",
    "clf.fit(X_train, y_train)\n",
    "print(\"Best Params=\",clf.best_params_, \"Accuracy=\", clf.best_score_)"
   ]
  },
  {
   "cell_type": "code",
   "execution_count": 40,
   "metadata": {
    "colab": {
     "base_uri": "https://localhost:8080/",
     "height": 297
    },
    "executionInfo": {
     "elapsed": 10187,
     "status": "ok",
     "timestamp": 1654537727298,
     "user": {
      "displayName": "Nuria Anton Calle",
      "userId": "01763984626458896991"
     },
     "user_tz": -120
    },
    "id": "HEa9JFSZ79Kv",
    "outputId": "af9108bc-7668-4e0b-948c-1ddc5cbb34aa"
   },
   "outputs": [
    {
     "data": {
      "image/png": "[encoded data removed]",
      "text/plain": [
       "<Figure size 432x288 with 1 Axes>"
      ]
     },
     "metadata": {
      "needs_background": "light"
     },
     "output_type": "display_data"
    }
   ],
   "source": [
    "#results of all the k combinations and weigths for the plot.\n",
    "lr = []\n",
    "for ki in range(1,30):\n",
    "    cv_scores = cv.cross_val_score(nb.KNeighborsClassifier(n_neighbors=ki), X=X_train, y=y_train, cv=10)\n",
    "    lr.append(np.mean(cv_scores))\n",
    "plt.plot(range(1,30),lr,'b',label='No weighting')\n",
    "\n",
    "lr = []\n",
    "for ki in range(1,30):\n",
    "    cv_scores = cv.cross_val_score(nb.KNeighborsClassifier(n_neighbors=ki,weights='distance'), X=X_train, y=y_train, cv=10)\n",
    "    lr.append(np.mean(cv_scores))\n",
    "plt.plot(range(1,30),lr,'r',label='Weighting')\n",
    "plt.xlabel('k')\n",
    "plt.ylabel('Accuracy')\n",
    "plt.legend(loc='upper right')\n",
    "plt.grid()\n",
    "plt.tight_layout()\n",
    "\n",
    "plt.show()\n",
    "#As we can see, the best options is 16 aprox."
   ]
  },
  {
   "cell_type": "code",
   "execution_count": 9,
   "metadata": {
    "colab": {
     "base_uri": "https://localhost:8080/"
    },
    "executionInfo": {
     "elapsed": 260,
     "status": "ok",
     "timestamp": 1654536066124,
     "user": {
      "displayName": "Nuria Anton Calle",
      "userId": "01763984626458896991"
     },
     "user_tz": -120
    },
    "id": "CQ3omlbn0TC2",
    "outputId": "43aa290e-d6c5-42b1-8896-ce60401ad276"
   },
   "outputs": [
    {
     "name": "stdout",
     "output_type": "stream",
     "text": [
      "0.5757142857142856\n",
      "0.05994895788102083\n"
     ]
    }
   ],
   "source": [
    "# Let's get the mean of the 10 validations (and standard deviation of them)\n",
    "print(np.mean(cv_scores))\n",
    "print(np.std(cv_scores))"
   ]
  },
  {
   "cell_type": "code",
   "execution_count": 10,
   "metadata": {
    "colab": {
     "base_uri": "https://localhost:8080/"
    },
    "executionInfo": {
     "elapsed": 236,
     "status": "ok",
     "timestamp": 1654536068144,
     "user": {
      "displayName": "Nuria Anton Calle",
      "userId": "01763984626458896991"
     },
     "user_tz": -120
    },
    "id": "SdX6olWk8Hbx",
    "outputId": "3f741fb7-c837-4e9e-c662-d0723bea7246"
   },
   "outputs": [
    {
     "name": "stdout",
     "output_type": "stream",
     "text": [
      "0.6433333333333333\n"
     ]
    }
   ],
   "source": [
    "(X_train, X_test,  y_train, y_test) = cv.train_test_split(X, y, test_size=.3, random_state=1)\n",
    "knc = nb.KNeighborsClassifier(16)\n",
    "knc.fit(X_train, y_train)\n",
    "print(knc.score(X_test, y_test))\n",
    "#With 16 neightbors we get 0.65 accuracy"
   ]
  },
  {
   "cell_type": "code",
   "execution_count": 41,
   "metadata": {
    "colab": {
     "base_uri": "https://localhost:8080/"
    },
    "executionInfo": {
     "elapsed": 631,
     "status": "ok",
     "timestamp": 1654537904373,
     "user": {
      "displayName": "Nuria Anton Calle",
      "userId": "01763984626458896991"
     },
     "user_tz": -120
    },
    "id": "TSDu1uHRWY54",
    "outputId": "7d883c34-450b-4570-a0fc-916def2fa734"
   },
   "outputs": [
    {
     "name": "stdout",
     "output_type": "stream",
     "text": [
      "Unnamed: 0                               0.241567\n",
      "Score                                   -0.317140\n",
      "Popularity                               0.291362\n",
      "Members                                 -0.277583\n",
      "genre_Drama                             -0.032668\n",
      "                                           ...   \n",
      "Rating_PG - Children                    -0.014617\n",
      "Rating_PG-13 - Teens 13 or older         0.073650\n",
      "Rating_R - 17+ (violence & profanity)   -0.087491\n",
      "Rating_R+ - Mild Nudity                 -0.062524\n",
      "completed_ratio                          1.000000\n",
      "Name: completed_ratio, Length: 219, dtype: float64\n"
     ]
    }
   ],
   "source": [
    "#to tried to analyze the best features, we can calculate the correlation.\n",
    "data_corr = pd.read_csv('/content/drive/MyDrive/MD/MD-Part2/prep_data.csv')\n",
    "data_corr['completed_ratio'].replace(['High', 'Low', 'Medium', 'Very low'],\n",
    "                        [0, 1, 2, 3], inplace=True)\n",
    "corr = data_corr.corr()\n",
    "with pd.option_context('display.max_rows', None, 'display.max_columns', None):  # more options can be specified also\n",
    "  print(corr['completed_ratio'])"
   ]
  },
  {
   "cell_type": "code",
   "execution_count": 47,
   "metadata": {
    "colab": {
     "base_uri": "https://localhost:8080/",
     "height": 315
    },
    "executionInfo": {
     "elapsed": 3106,
     "status": "ok",
     "timestamp": 1654538163831,
     "user": {
      "displayName": "Nuria Anton Calle",
      "userId": "01763984626458896991"
     },
     "user_tz": -120
    },
    "id": "J1ahClcVWdIb",
    "outputId": "4f4fa8ae-4bed-459f-d615-0dd609b901ee"
   },
   "outputs": [
    {
     "name": "stdout",
     "output_type": "stream",
     "text": [
      "0.6866666666666666\n"
     ]
    },
    {
     "data": {
      "image/png": "[encoded data removed]",
      "text/plain": [
       "<Figure size 432x288 with 1 Axes>"
      ]
     },
     "metadata": {
      "needs_background": "light"
     },
     "output_type": "display_data"
    }
   ],
   "source": [
    "#We have selected just the rows that have more or less 0.20 correlation with the completed_ratio\n",
    "#We have deleted too the unname column because though it have a good correlation, we have better accuracy without it.\n",
    "X = data[[\"Popularity\", \"Aired_2020\", \"Aired_2021\", \"Source_Original\"]  ]\n",
    "X = X.values\n",
    "y = data[\"completed_ratio\"]\n",
    "y = y.values\n",
    "\n",
    "(X_train, X_test,  y_train, y_test) = cv.train_test_split(X, y, test_size=.3, random_state=1)\n",
    "knc = nb.KNeighborsClassifier(16)\n",
    "knc.fit(X_train, y_train)\n",
    "print(knc.score(X_test, y_test))\n",
    "\n",
    "lr = []\n",
    "for ki in range(1,30):\n",
    "    cv_scores = cv.cross_val_score(nb.KNeighborsClassifier(n_neighbors=ki), X=X_train, y=y_train, cv=10)\n",
    "    lr.append(np.mean(cv_scores))\n",
    "plt.plot(range(1,30),lr,'b',label='No weighting')\n",
    "\n",
    "lr = []\n",
    "for ki in range(1,30):\n",
    "    cv_scores = cv.cross_val_score(nb.KNeighborsClassifier(n_neighbors=ki,weights='distance'), X=X_train, y=y_train, cv=10)\n",
    "    lr.append(np.mean(cv_scores))\n",
    "plt.plot(range(1,30),lr,'r',label='Weighting')\n",
    "plt.xlabel('k')\n",
    "plt.ylabel('Accuracy')\n",
    "plt.legend(loc='upper right')\n",
    "plt.grid()\n",
    "plt.tight_layout()\n",
    "\n",
    "plt.show()"
   ]
  },
  {
   "cell_type": "code",
   "execution_count": 48,
   "metadata": {
    "colab": {
     "base_uri": "https://localhost:8080/"
    },
    "executionInfo": {
     "elapsed": 2439,
     "status": "ok",
     "timestamp": 1654538168603,
     "user": {
      "displayName": "Nuria Anton Calle",
      "userId": "01763984626458896991"
     },
     "user_tz": -120
    },
    "id": "kx3qkcnsbjNA",
    "outputId": "541b947e-5568-48a1-eb00-f035c32bc4a9"
   },
   "outputs": [
    {
     "name": "stdout",
     "output_type": "stream",
     "text": [
      "Best Params= {'n_neighbors': 25, 'weights': 'uniform'} Accuracy= 0.6214285714285713\n"
     ]
    }
   ],
   "source": [
    "#if we execute the gridSearch, we obtain that the best parameters are different as before\n",
    "from sklearn.model_selection import GridSearchCV\n",
    "(X_train, X_test,  y_train, y_test) = cv.train_test_split(X, y, test_size=.3, random_state=1)\n",
    "params = {'n_neighbors':list(range(1,30,1)), 'weights':('distance','uniform')}\n",
    "knc = nb.KNeighborsClassifier()\n",
    "clf = GridSearchCV(knc, param_grid=params,cv=10,n_jobs=-1)  # If cv is integer, by default is Stratifyed \n",
    "clf.fit(X_train, y_train)\n",
    "print(\"Best Params=\",clf.best_params_, \"Accuracy=\", clf.best_score_)"
   ]
  },
  {
   "cell_type": "code",
   "execution_count": 49,
   "metadata": {
    "colab": {
     "base_uri": "https://localhost:8080/"
    },
    "executionInfo": {
     "elapsed": 252,
     "status": "ok",
     "timestamp": 1654538171884,
     "user": {
      "displayName": "Nuria Anton Calle",
      "userId": "01763984626458896991"
     },
     "user_tz": -120
    },
    "id": "5NrWZMSamepx",
    "outputId": "6ad91cf2-3268-4ce0-8346-8d31eb2b24a9"
   },
   "outputs": [
    {
     "name": "stdout",
     "output_type": "stream",
     "text": [
      "0.7033333333333334\n"
     ]
    }
   ],
   "source": [
    "#execute the train with the best parameters\n",
    "(X_train, X_test,  y_train, y_test) = cv.train_test_split(X, y, test_size=.3, random_state=1)\n",
    "knc = nb.KNeighborsClassifier(n_neighbors=25,weights='uniform')\n",
    "knc.fit(X_train, y_train)\n",
    "print(knc.score(X_test, y_test))"
   ]
  },
  {
   "cell_type": "code",
   "execution_count": 50,
   "metadata": {
    "colab": {
     "base_uri": "https://localhost:8080/",
     "height": 207
    },
    "executionInfo": {
     "elapsed": 643,
     "status": "ok",
     "timestamp": 1654538174763,
     "user": {
      "displayName": "Nuria Anton Calle",
      "userId": "01763984626458896991"
     },
     "user_tz": -120
    },
    "id": "B96-Y5GgqnZE",
    "outputId": "9219da38-1ebd-428f-9f91-b0a6ae36b20b"
   },
   "outputs": [
    {
     "data": {
      "image/png": "[encoded data removed]",
      "text/plain": [
       "<Figure size 180x180 with 1 Axes>"
      ]
     },
     "metadata": {
      "needs_background": "light"
     },
     "output_type": "display_data"
    },
    {
     "name": "stdout",
     "output_type": "stream",
     "text": [
      "0.607\n"
     ]
    }
   ],
   "source": [
    "#we are still having the same issues\n",
    "predicted = cv.cross_val_predict(nb.KNeighborsClassifier(), X=X, y=y,  cv=10)  \n",
    "\n",
    "\n",
    "confmat = confusion_matrix(y, predicted)\n",
    "\n",
    "fig, ax = plt.subplots(figsize=(2.5, 2.5))\n",
    "ax.matshow(confmat, cmap=plt.cm.Blues, alpha=0.3)\n",
    "for i in range(confmat.shape[0]):\n",
    "    for j in range(confmat.shape[1]):\n",
    "        ax.text(x=j, y=i, s=confmat[i, j], va='center', ha='center',fontsize=7)\n",
    "\n",
    "plt.xlabel('Predicted label')\n",
    "plt.ylabel('True label')\n",
    "\n",
    "plt.tight_layout()\n",
    "plt.savefig('ConMatrix.png', dpi=600)\n",
    "plt.show()\n",
    "print(metrics.accuracy_score(y, predicted))\n",
    "#we can see at the confusion matrix that the false positives and false negatives have decreased"
   ]
  },
  {
   "cell_type": "code",
   "execution_count": 51,
   "metadata": {
    "colab": {
     "base_uri": "https://localhost:8080/"
    },
    "executionInfo": {
     "elapsed": 235,
     "status": "ok",
     "timestamp": 1654538179013,
     "user": {
      "displayName": "Nuria Anton Calle",
      "userId": "01763984626458896991"
     },
     "user_tz": -120
    },
    "id": "MRETmns9uqYA",
    "outputId": "1c5b20aa-73c7-436c-8523-25ebba94f3d8"
   },
   "outputs": [
    {
     "name": "stdout",
     "output_type": "stream",
     "text": [
      "[[170   0  19   0]\n",
      " [  6   0   6   0]\n",
      " [ 54   0  41   0]\n",
      " [  2   0   2   0]]\n",
      "              precision    recall  f1-score   support\n",
      "\n",
      "        High       0.73      0.90      0.81       189\n",
      "         Low       0.00      0.00      0.00        12\n",
      "      Medium       0.60      0.43      0.50        95\n",
      "    Very low       0.00      0.00      0.00         4\n",
      "\n",
      "    accuracy                           0.70       300\n",
      "   macro avg       0.33      0.33      0.33       300\n",
      "weighted avg       0.65      0.70      0.67       300\n",
      "\n"
     ]
    },
    {
     "name": "stderr",
     "output_type": "stream",
     "text": [
      "/usr/local/lib/python3.7/dist-packages/sklearn/metrics/_classification.py:1318: UndefinedMetricWarning: Precision and F-score are ill-defined and being set to 0.0 in labels with no predicted samples. Use `zero_division` parameter to control this behavior.\n",
      "  _warn_prf(average, modifier, msg_start, len(result))\n",
      "/usr/local/lib/python3.7/dist-packages/sklearn/metrics/_classification.py:1318: UndefinedMetricWarning: Precision and F-score are ill-defined and being set to 0.0 in labels with no predicted samples. Use `zero_division` parameter to control this behavior.\n",
      "  _warn_prf(average, modifier, msg_start, len(result))\n",
      "/usr/local/lib/python3.7/dist-packages/sklearn/metrics/_classification.py:1318: UndefinedMetricWarning: Precision and F-score are ill-defined and being set to 0.0 in labels with no predicted samples. Use `zero_division` parameter to control this behavior.\n",
      "  _warn_prf(average, modifier, msg_start, len(result))\n"
     ]
    }
   ],
   "source": [
    "from sklearn.metrics import confusion_matrix\n",
    "from sklearn import metrics\n",
    "y_pred = knc.predict(X_test)\n",
    "print(confusion_matrix(y_test, y_pred))\n",
    "\n",
    "\n",
    "print(metrics.classification_report(y_test, y_pred))\n",
    "#as we can see, we have improved our medium values a lot, but with the cost of lose all our predictions in Low and very Low\n",
    "#so here we have to decide if we really want to lose that predictions. For our propose, we will decide that yes, due to \n",
    "#we get more accuracy at the end at this way."
   ]
  }
 ],
 "metadata": {
  "colab": {
   "collapsed_sections": [],
   "name": "knn_model.ipynb",
   "provenance": []
  },
  "kernelspec": {
   "display_name": "Python 3 (ipykernel)",
   "language": "python",
   "name": "python3"
  },
  "language_info": {
   "codemirror_mode": {
    "name": "ipython",
    "version": 3
   },
   "file_extension": ".py",
   "mimetype": "text/x-python",
   "name": "python",
   "nbconvert_exporter": "python",
   "pygments_lexer": "ipython3",
   "version": "3.9.0"
  }
 },
 "nbformat": 4,
 "nbformat_minor": 1
}
