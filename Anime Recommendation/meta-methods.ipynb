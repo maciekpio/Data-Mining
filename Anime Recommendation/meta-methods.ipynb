{
 "cells": [
  {
   "cell_type": "code",
   "execution_count": 35,
   "metadata": {
    "executionInfo": {
     "elapsed": 216,
     "status": "ok",
     "timestamp": 1654538816788,
     "user": {
      "displayName": "Stefan Ivaylov Patchaliev",
      "userId": "04041732830524781224"
     },
     "user_tz": -120
    },
    "id": "o6xjxH6hL16i"
   },
   "outputs": [],
   "source": [
    "import numpy as np    # Numeric and matrix computation\n",
    "import pandas as pd   # Optional: good package for manipulating data \n",
    "import sklearn as sk  # Package with learning algorithms implemented\n",
    "\n",
    "df = pd.read_csv('prep_data.csv')\n"
   ]
  },
  {
   "cell_type": "code",
   "execution_count": null,
   "metadata": {
    "id": "pnJZ8IsdRPf9"
   },
   "outputs": [],
   "source": [
    "df"
   ]
  },
  {
   "cell_type": "markdown",
   "metadata": {
    "id": "8afd1l_TND6G"
   },
   "source": [
    "# Create the X_data and Y_data for the training and testing\n",
    "The Y_data just has the final ratio values and X_data has all the data to do the prediction"
   ]
  },
  {
   "cell_type": "code",
   "execution_count": 45,
   "metadata": {
    "executionInfo": {
     "elapsed": 218,
     "status": "ok",
     "timestamp": 1654539214573,
     "user": {
      "displayName": "Stefan Ivaylov Patchaliev",
      "userId": "04041732830524781224"
     },
     "user_tz": -120
    },
    "id": "7vzEFULiRatC"
   },
   "outputs": [],
   "source": [
    "y=df['completed_ratio'].values\n",
    "\n",
    "X = df.drop(['completed_ratio'], axis=1).values\n"
   ]
  },
  {
   "cell_type": "markdown",
   "metadata": {
    "id": "5_0VMSFuNaLO"
   },
   "source": [
    "# Voting Majority\n",
    "The next codes use KNN, Naive Bayes and Decision Trees in order to use a Voting Majority to optimize the accuracy"
   ]
  },
  {
   "cell_type": "code",
   "execution_count": 46,
   "metadata": {
    "executionInfo": {
     "elapsed": 2,
     "status": "ok",
     "timestamp": 1654539215704,
     "user": {
      "displayName": "Stefan Ivaylov Patchaliev",
      "userId": "04041732830524781224"
     },
     "user_tz": -120
    },
    "id": "asSQe0dEThoi"
   },
   "outputs": [],
   "source": [
    "from sklearn.model_selection import cross_val_score\n",
    "from sklearn.linear_model import LogisticRegression\n",
    "from sklearn.naive_bayes import GaussianNB\n",
    "from sklearn.ensemble import VotingClassifier\n",
    "from sklearn.tree import DecisionTreeClassifier\n",
    "from sklearn.neighbors import KNeighborsClassifier\n",
    "from sklearn.model_selection import GridSearchCV\n",
    "\n",
    "cv=10\n",
    "\n",
    "clf1 = GaussianNB()\n",
    "\n"
   ]
  },
  {
   "cell_type": "code",
   "execution_count": 47,
   "metadata": {
    "colab": {
     "base_uri": "https://localhost:8080/"
    },
    "executionInfo": {
     "elapsed": 3109,
     "status": "ok",
     "timestamp": 1654539219707,
     "user": {
      "displayName": "Stefan Ivaylov Patchaliev",
      "userId": "04041732830524781224"
     },
     "user_tz": -120
    },
    "id": "RXvUFNGcua0s",
    "outputId": "1a121c4e-8bea-41f1-e679-fe0aa880dc76"
   },
   "outputs": [
    {
     "data": {
      "text/plain": [
       "GridSearchCV(cv=10, estimator=KNeighborsClassifier(), n_jobs=-1,\n",
       "             param_grid={'n_neighbors': [1, 3, 5, 7, 9, 11, 13, 15, 17, 19, 21,\n",
       "                                         23, 25, 27, 29],\n",
       "                         'weights': ('distance', 'uniform')})"
      ]
     },
     "execution_count": 47,
     "metadata": {},
     "output_type": "execute_result"
    }
   ],
   "source": [
    "params = {'n_neighbors':list(range(1,30,2)), 'weights':('distance','uniform')}\n",
    "knc = KNeighborsClassifier()\n",
    "clf = GridSearchCV(knc, param_grid=params,cv=cv,n_jobs=-1)  # If cv is integer, by default is Stratifyed \n",
    "clf.fit(X, y)\n"
   ]
  },
  {
   "cell_type": "code",
   "execution_count": 48,
   "metadata": {
    "colab": {
     "base_uri": "https://localhost:8080/"
    },
    "executionInfo": {
     "elapsed": 587,
     "status": "ok",
     "timestamp": 1654539220290,
     "user": {
      "displayName": "Stefan Ivaylov Patchaliev",
      "userId": "04041732830524781224"
     },
     "user_tz": -120
    },
    "id": "9Y_ZZuhMucKD",
    "outputId": "28f8c82d-667d-4f1a-9f30-a4dac314b345"
   },
   "outputs": [
    {
     "name": "stdout",
     "output_type": "stream",
     "text": [
      "Best Params fo Knn= {'n_neighbors': 21, 'weights': 'uniform'} Accuracy= 0.639\n",
      "Accuracy: 0.464 [Naive Bayes]\n",
      "Accuracy: 0.639 [Knn (3)]\n",
      "Accuracy: 0.638 [Dec. Tree]\n"
     ]
    }
   ],
   "source": [
    "print(\"Best Params fo Knn=\",clf.best_params_, \"Accuracy=\", clf.best_score_)\n",
    "parval=clf.best_params_\n",
    "clf2 = KNeighborsClassifier(n_neighbors=parval['n_neighbors'],weights=parval['weights'])\n",
    "\n",
    "clf3 = DecisionTreeClassifier(criterion='entropy')\n",
    "\n",
    "\n",
    "for clf, label in zip([clf1, clf2, clf3], ['Naive Bayes','Knn (3)', 'Dec. Tree', ]):\n",
    "    scores = cross_val_score(clf, X, y, cv=cv, scoring='accuracy')\n",
    "    print(\"Accuracy: %0.3f [%s]\" % (scores.mean(), label))"
   ]
  },
  {
   "cell_type": "code",
   "execution_count": 49,
   "metadata": {
    "colab": {
     "base_uri": "https://localhost:8080/"
    },
    "executionInfo": {
     "elapsed": 562,
     "status": "ok",
     "timestamp": 1654539220847,
     "user": {
      "displayName": "Stefan Ivaylov Patchaliev",
      "userId": "04041732830524781224"
     },
     "user_tz": -120
    },
    "id": "Ig0VYVmFVQXT",
    "outputId": "24753e0b-fa65-4c22-c929-ecea78658677"
   },
   "outputs": [
    {
     "name": "stdout",
     "output_type": "stream",
     "text": [
      "Accuracy: 0.650 [Majority Voting]\n"
     ]
    }
   ],
   "source": [
    "import warnings\n",
    "warnings.filterwarnings(\"ignore\", category=DeprecationWarning)\n",
    "\n",
    "eclf = VotingClassifier(estimators=[('nb', clf1), ('knn3', clf2), ('dt', clf3)], voting='hard')\n",
    "scores = cross_val_score(eclf, X, y, cv=cv, scoring='accuracy')\n",
    "print(\"Accuracy: %0.3f [%s]\" % (scores.mean() , \"Majority Voting\"))"
   ]
  },
  {
   "cell_type": "code",
   "execution_count": 50,
   "metadata": {
    "colab": {
     "base_uri": "https://localhost:8080/"
    },
    "executionInfo": {
     "elapsed": 574,
     "status": "ok",
     "timestamp": 1654539221414,
     "user": {
      "displayName": "Stefan Ivaylov Patchaliev",
      "userId": "04041732830524781224"
     },
     "user_tz": -120
    },
    "id": "GpGZ-6vDwEXE",
    "outputId": "75c430f2-faa3-412f-a0ef-87de32b7d3fa"
   },
   "outputs": [
    {
     "name": "stdout",
     "output_type": "stream",
     "text": [
      "Accuracy: 0.666 [Weighted Voting]\n"
     ]
    }
   ],
   "source": [
    "eclf = VotingClassifier(estimators=[('nb', clf1), ('knn3', clf2), ('dt', clf3)],voting='soft', weights=[2,1,2])\n",
    "scores = cross_val_score(eclf, X, y, cv=cv, scoring='accuracy')\n",
    "print(\"Accuracy: %0.3f [%s]\" % (scores.mean(), \"Weighted Voting\"))"
   ]
  },
  {
   "cell_type": "markdown",
   "metadata": {
    "id": "SN4eSXJiNzdQ"
   },
   "source": [
    "# Bagging"
   ]
  },
  {
   "cell_type": "code",
   "execution_count": 51,
   "metadata": {
    "colab": {
     "base_uri": "https://localhost:8080/"
    },
    "executionInfo": {
     "elapsed": 85520,
     "status": "ok",
     "timestamp": 1654539306932,
     "user": {
      "displayName": "Stefan Ivaylov Patchaliev",
      "userId": "04041732830524781224"
     },
     "user_tz": -120
    },
    "id": "HPoXYhc4wHtD",
    "outputId": "fd31483b-a8cf-47cd-decf-f1022f730ee2"
   },
   "outputs": [
    {
     "name": "stdout",
     "output_type": "stream",
     "text": [
      "Accuracy: 0.637 [1]\n",
      "Accuracy: 0.671 [2]\n",
      "Accuracy: 0.685 [5]\n",
      "Accuracy: 0.710 [10]\n",
      "Accuracy: 0.729 [20]\n",
      "Accuracy: 0.725 [50]\n",
      "Accuracy: 0.722 [100]\n",
      "Accuracy: 0.718 [200]\n",
      "\n",
      "Accuracy: 0.579 [1]\n",
      "Accuracy: 0.638 [2]\n",
      "Accuracy: 0.644 [5]\n",
      "Accuracy: 0.670 [10]\n",
      "Accuracy: 0.686 [20]\n",
      "Accuracy: 0.697 [50]\n",
      "Accuracy: 0.709 [100]\n",
      "Accuracy: 0.711 [200]\n"
     ]
    }
   ],
   "source": [
    "from sklearn.ensemble import BaggingClassifier\n",
    "\n",
    "lb=[]\n",
    "for nest in [1,2,5,10,20,50,100,200]:\n",
    "    scores = cross_val_score(BaggingClassifier(base_estimator=DecisionTreeClassifier(),n_estimators=nest), X, y, cv=cv, scoring='accuracy')\n",
    "    print(\"Accuracy: %0.3f [%s]\" % (scores.mean(), nest))\n",
    "    lb.append(scores.mean())\n",
    "\n",
    "lb2=[]    \n",
    "print()\n",
    "for nest in [1,2,5,10,20,50,100,200]:\n",
    "    scores = cross_val_score(BaggingClassifier(base_estimator=DecisionTreeClassifier(),n_estimators=nest,max_features=0.35), X, y, cv=cv, scoring='accuracy')\n",
    "    print(\"Accuracy: %0.3f [%s]\" % (scores.mean(), nest))\n",
    "    lb2.append(scores.mean())"
   ]
  },
  {
   "cell_type": "markdown",
   "metadata": {
    "id": "ha18tHnrN8tP"
   },
   "source": [
    "# Random Forest"
   ]
  },
  {
   "cell_type": "code",
   "execution_count": 52,
   "metadata": {
    "colab": {
     "base_uri": "https://localhost:8080/"
    },
    "executionInfo": {
     "elapsed": 11682,
     "status": "ok",
     "timestamp": 1654539318611,
     "user": {
      "displayName": "Stefan Ivaylov Patchaliev",
      "userId": "04041732830524781224"
     },
     "user_tz": -120
    },
    "id": "NaFD2qab9ssH",
    "outputId": "1caa74ad-2b92-41f9-bdee-5585eb686722"
   },
   "outputs": [
    {
     "name": "stdout",
     "output_type": "stream",
     "text": [
      "Accuracy: 0.608 [1]\n",
      "Accuracy: 0.649 [2]\n",
      "Accuracy: 0.670 [5]\n",
      "Accuracy: 0.679 [10]\n",
      "Accuracy: 0.710 [20]\n",
      "Accuracy: 0.698 [50]\n",
      "Accuracy: 0.719 [100]\n",
      "Accuracy: 0.719 [200]\n"
     ]
    }
   ],
   "source": [
    "from sklearn.ensemble import RandomForestClassifier\n",
    "\n",
    "lrf=[]\n",
    "for nest in [1,2,5,10,20,50,100,200]:\n",
    "    scores = cross_val_score(RandomForestClassifier(n_estimators=nest), X, y, cv=cv, scoring='accuracy')\n",
    "    print(\"Accuracy: %0.3f [%s]\" % (scores.mean(), nest))\n",
    "    lrf.append(scores.mean())"
   ]
  },
  {
   "cell_type": "code",
   "execution_count": 53,
   "metadata": {
    "colab": {
     "base_uri": "https://localhost:8080/"
    },
    "executionInfo": {
     "elapsed": 13094,
     "status": "ok",
     "timestamp": 1654539331696,
     "user": {
      "displayName": "Stefan Ivaylov Patchaliev",
      "userId": "04041732830524781224"
     },
     "user_tz": -120
    },
    "id": "wOK0TuXE9ueF",
    "outputId": "06d30c11-8b87-4161-a9dd-f48b839b43e2"
   },
   "outputs": [
    {
     "name": "stdout",
     "output_type": "stream",
     "text": [
      "Accuracy: 0.585 [1]\n",
      "Accuracy: 0.635 [2]\n",
      "Accuracy: 0.644 [5]\n",
      "Accuracy: 0.680 [10]\n",
      "Accuracy: 0.686 [20]\n",
      "Accuracy: 0.697 [50]\n",
      "Accuracy: 0.708 [100]\n",
      "Accuracy: 0.699 [200]\n"
     ]
    }
   ],
   "source": [
    "from sklearn.ensemble import ExtraTreesClassifier\n",
    "\n",
    "lext=[]\n",
    "for nest in [1,2,5,10,20,50,100,200]:\n",
    "    scores = cross_val_score(ExtraTreesClassifier(n_estimators=nest), X, y, cv=cv, scoring='accuracy')\n",
    "    print(\"Accuracy: %0.3f [%s]\" % (scores.mean(), nest))\n",
    "    lext.append(scores.mean())"
   ]
  },
  {
   "cell_type": "markdown",
   "metadata": {
    "id": "JPfZZkd0OBmv"
   },
   "source": [
    "# Boosting"
   ]
  },
  {
   "cell_type": "code",
   "execution_count": 54,
   "metadata": {
    "colab": {
     "base_uri": "https://localhost:8080/"
    },
    "executionInfo": {
     "elapsed": 19275,
     "status": "ok",
     "timestamp": 1654539350962,
     "user": {
      "displayName": "Stefan Ivaylov Patchaliev",
      "userId": "04041732830524781224"
     },
     "user_tz": -120
    },
    "id": "CoJp5tLB9whU",
    "outputId": "1510be22-756d-4df7-9730-028893a6dc1c"
   },
   "outputs": [
    {
     "name": "stdout",
     "output_type": "stream",
     "text": [
      "Accuracy: 0.609 [1]\n",
      "Accuracy: 0.630 [2]\n",
      "Accuracy: 0.552 [5]\n",
      "Accuracy: 0.550 [10]\n",
      "Accuracy: 0.556 [20]\n",
      "Accuracy: 0.543 [50]\n",
      "Accuracy: 0.564 [100]\n",
      "Accuracy: 0.601 [200]\n"
     ]
    }
   ],
   "source": [
    "from sklearn.ensemble import AdaBoostClassifier\n",
    "\n",
    "lboo=[]\n",
    "for nest in [1,2,5,10,20,50,100,200]:\n",
    "    scores = cross_val_score(AdaBoostClassifier(n_estimators=nest), X, y, cv=cv, scoring='accuracy')\n",
    "    print(\"Accuracy: %0.3f [%s]\" % (scores.mean(), nest))\n",
    "    lboo.append(scores.mean())"
   ]
  },
  {
   "cell_type": "code",
   "execution_count": 55,
   "metadata": {
    "colab": {
     "base_uri": "https://localhost:8080/"
    },
    "executionInfo": {
     "elapsed": 39676,
     "status": "ok",
     "timestamp": 1654539390636,
     "user": {
      "displayName": "Stefan Ivaylov Patchaliev",
      "userId": "04041732830524781224"
     },
     "user_tz": -120
    },
    "id": "sPT6r64v9y8t",
    "outputId": "e5ddf8ac-dc48-45e2-a29a-3a012d6b960e"
   },
   "outputs": [
    {
     "name": "stdout",
     "output_type": "stream",
     "text": [
      "Accuracy: 0.685 [1]\n",
      "Accuracy: 0.496 [2]\n",
      "Accuracy: 0.609 [5]\n",
      "Accuracy: 0.625 [10]\n",
      "Accuracy: 0.638 [20]\n",
      "Accuracy: 0.664 [50]\n",
      "Accuracy: 0.713 [100]\n",
      "Accuracy: 0.693 [200]\n"
     ]
    }
   ],
   "source": [
    "from sklearn.ensemble import AdaBoostClassifier\n",
    "\n",
    "lboodt=[]\n",
    "for nest in [1,2,5,10,20,50,100,200]:\n",
    "    scores = cross_val_score(AdaBoostClassifier(DecisionTreeClassifier(max_depth=5),n_estimators=nest), X, y, cv=cv, scoring='accuracy')\n",
    "    print(\"Accuracy: %0.3f [%s]\" % (scores.mean(), nest))\n",
    "    lboodt.append(scores.mean())"
   ]
  },
  {
   "cell_type": "code",
   "execution_count": 56,
   "metadata": {
    "colab": {
     "base_uri": "https://localhost:8080/"
    },
    "executionInfo": {
     "elapsed": 79001,
     "status": "ok",
     "timestamp": 1654539469624,
     "user": {
      "displayName": "Stefan Ivaylov Patchaliev",
      "userId": "04041732830524781224"
     },
     "user_tz": -120
    },
    "id": "Y1X6rsv-90u0",
    "outputId": "a852ec8f-799d-4cd4-cc36-c7f169f8347e"
   },
   "outputs": [
    {
     "name": "stdout",
     "output_type": "stream",
     "text": [
      "Accuracy: 0.621 [1]\n",
      "Accuracy: 0.622 [2]\n",
      "Accuracy: 0.696 [5]\n",
      "Accuracy: 0.713 [10]\n",
      "Accuracy: 0.723 [20]\n",
      "Accuracy: 0.724 [50]\n",
      "Accuracy: 0.714 [100]\n",
      "Accuracy: 0.706 [200]\n"
     ]
    }
   ],
   "source": [
    "from sklearn.ensemble import GradientBoostingClassifier\n",
    "\n",
    "lgbboo=[]\n",
    "for nest in [1,2,5,10,20,50,100,200]:\n",
    "    scores = cross_val_score(GradientBoostingClassifier(n_estimators=nest), X, y, cv=cv, scoring='accuracy')\n",
    "    print(\"Accuracy: %0.3f [%s]\" % (scores.mean(), nest))\n",
    "    lgbboo.append(scores.mean())"
   ]
  },
  {
   "cell_type": "code",
   "execution_count": 57,
   "metadata": {
    "colab": {
     "base_uri": "https://localhost:8080/",
     "height": 374
    },
    "executionInfo": {
     "elapsed": 675,
     "status": "ok",
     "timestamp": 1654539470289,
     "user": {
      "displayName": "Stefan Ivaylov Patchaliev",
      "userId": "04041732830524781224"
     },
     "user_tz": -120
    },
    "id": "itG09i-C92vt",
    "outputId": "4d54f5fb-9975-4b2c-f7bf-416951de7e17"
   },
   "outputs": [
    {
     "data": {
      "image/png": "[encoded data removed]",
      "text/plain": [
       "<Figure size 864x432 with 1 Axes>"
      ]
     },
     "metadata": {
      "needs_background": "light"
     },
     "output_type": "display_data"
    }
   ],
   "source": [
    "import  matplotlib.pyplot as plt\n",
    "\n",
    "plt.figure(figsize=(12,6))\n",
    "plt.plot([1,2,5,10,20,50,100,200],lb,label=\"Bagging DT\")\n",
    "plt.plot([1,2,5,10,20,50,100,200],lb2,label=\"Bagging DT forced variance\")\n",
    "plt.plot([1,2,5,10,20,50,100,200],lrf,label=\"Random Forest\")\n",
    "plt.plot([1,2,5,10,20,50,100,200],lext,label=\"Extra Trees\")\n",
    "plt.plot([1,2,5,10,20,50,100,200],lboo,label=\"AdaBoost Dec.Stumps\")\n",
    "plt.plot([1,2,5,10,20,50,100,200],lboodt,label=\"AdaBoost DT\")\n",
    "plt.plot([1,2,5,10,20,50,100,200],lgbboo,label=\"Gradient Boosting\")\n",
    "plt.legend(loc='lower right')\n",
    "\n",
    "plt.show()"
   ]
  },
  {
   "cell_type": "code",
   "execution_count": 58,
   "metadata": {
    "colab": {
     "base_uri": "https://localhost:8080/",
     "height": 378
    },
    "executionInfo": {
     "elapsed": 582,
     "status": "ok",
     "timestamp": 1654539470866,
     "user": {
      "displayName": "Stefan Ivaylov Patchaliev",
      "userId": "04041732830524781224"
     },
     "user_tz": -120
    },
    "id": "-0mES_q194pu",
    "outputId": "f610d5af-e152-4050-ea4f-05026c617dae"
   },
   "outputs": [
    {
     "data": {
      "image/png": "[encoded data removed]",
      "text/plain": [
       "<Figure size 864x432 with 1 Axes>"
      ]
     },
     "metadata": {
      "needs_background": "light"
     },
     "output_type": "display_data"
    }
   ],
   "source": [
    "plt.figure(figsize=(12,6))\n",
    "plt.plot([1,2,5,10,20,50,100,200],lb,label=\"Bagging DT\")\n",
    "plt.plot([1,2,5,10,20,50,100,200],lb2,label=\"Bagging DT forced variance\")\n",
    "plt.plot([1,2,5,10,20,50,100,200],lrf,label=\"Random Forest\")\n",
    "plt.plot([1,2,5,10,20,50,100,200],lext,label=\"Extra Trees\")\n",
    "plt.plot([1,2,5,10,20,50,100,200],lboo,label=\"AdaBoost Dec.Stumps\")\n",
    "plt.plot([1,2,5,10,20,50,100,200],lboodt,label=\"AdaBoost DT\")\n",
    "plt.plot([1,2,5,10,20,50,100,200],lgbboo,label=\"Gradient Boosting\")\n",
    "plt.legend(loc='lower right')\n",
    "plt.xlim(10,200)\n",
    "plt.ylim(0.90,0.96)\n",
    "plt.show()"
   ]
  },
  {
   "cell_type": "markdown",
   "metadata": {
    "id": "cobMumaQOJnP"
   },
   "source": [
    "# Feature Selection with Forests of trees"
   ]
  },
  {
   "cell_type": "code",
   "execution_count": 59,
   "metadata": {
    "colab": {
     "base_uri": "https://localhost:8080/"
    },
    "executionInfo": {
     "elapsed": 15,
     "status": "ok",
     "timestamp": 1654539470866,
     "user": {
      "displayName": "Stefan Ivaylov Patchaliev",
      "userId": "04041732830524781224"
     },
     "user_tz": -120
    },
    "id": "aww9Nq0u96rn",
    "outputId": "4634b0a6-365e-4cf9-875f-72bc73d7161d"
   },
   "outputs": [
    {
     "name": "stdout",
     "output_type": "stream",
     "text": [
      "[0.09041948 0.0850823  0.08340401 0.08137467 0.00795234 0.01563752\n",
      " 0.0085663  0.00985707 0.00280457 0.00403347 0.00226662 0.00319621\n",
      " 0.00756941 0.00271861 0.00340193 0.00670953 0.00554054 0.01146317\n",
      " 0.00664941 0.00451139 0.00470481 0.00171507 0.00312342 0.00763335\n",
      " 0.00446438 0.00469473 0.00737971 0.00823373 0.00331309 0.00720512\n",
      " 0.00376107 0.00069364 0.00475034 0.00184053 0.00046149 0.00323815\n",
      " 0.0037924  0.0036192  0.00061945 0.00248494 0.00174038 0.00435254\n",
      " 0.00415313 0.00811146 0.00522618 0.00646703 0.00218971 0.00297817\n",
      " 0.00412694 0.00330053 0.00064606 0.00291801 0.00231196 0.00212692\n",
      " 0.00158443 0.00129173 0.00254502 0.00445268 0.00290545 0.00123947\n",
      " 0.00280781 0.00447497 0.00210764 0.0032437  0.00208437 0.0058813\n",
      " 0.00148467 0.00137391 0.00133753 0.00348135 0.0022977  0.00521605\n",
      " 0.00448743 0.00206405 0.0018679  0.00145273 0.00171975 0.00439416\n",
      " 0.0036293  0.00371489 0.00241583 0.00107142 0.00172364 0.00156604\n",
      " 0.00355451 0.00145401 0.00198219 0.00313333 0.00223884 0.00321821\n",
      " 0.0007895  0.0035199  0.00131175 0.00077279 0.00199142 0.00265164\n",
      " 0.0021536  0.00390773 0.00110629 0.00205363 0.00354327 0.00105713\n",
      " 0.00167459 0.00258305 0.00146893 0.00259228 0.00206176 0.0020367\n",
      " 0.00152002 0.00174437 0.00113947 0.00117891 0.00252506 0.00093878\n",
      " 0.00048975 0.00285403 0.00227072 0.00065293 0.00382765 0.00260687\n",
      " 0.00210245 0.00314112 0.00043061 0.00093162 0.00020392 0.00407631\n",
      " 0.00139747 0.00183073 0.00111088 0.00157473 0.00113246 0.00147618\n",
      " 0.00186093 0.0009672  0.00187463 0.00167955 0.0017351  0.00337978\n",
      " 0.00156302 0.0010326  0.00211353 0.00161821 0.00204393 0.00131008\n",
      " 0.00192744 0.00257959 0.00277897 0.00243695 0.00263851 0.00322663\n",
      " 0.00191448 0.00221782 0.00187097 0.00266042 0.00317241 0.00289442\n",
      " 0.00325445 0.00348054 0.00538199 0.00836776 0.00607047 0.01732117\n",
      " 0.01121346 0.0023929  0.00166369 0.00131074 0.00120965 0.00248515\n",
      " 0.00162389 0.00127635 0.00221104 0.00166036 0.00160968 0.00254347\n",
      " 0.00304582 0.00145424 0.00199145 0.00182543 0.00158547 0.00101141\n",
      " 0.00093907 0.0012962  0.00161154 0.000667   0.00115152 0.00265648\n",
      " 0.00309639 0.0006947  0.00067317 0.00622309 0.00196646 0.00142163\n",
      " 0.0018716  0.00116607 0.00326737 0.00091988 0.00292244 0.00388706\n",
      " 0.00402885 0.00153785 0.00161789 0.00089056 0.00157278 0.00077717\n",
      " 0.00174134 0.00525914 0.00717828 0.00697347 0.00182219 0.00918686\n",
      " 0.00235108 0.00201903 0.00283959 0.00526648 0.00514297 0.00933673\n",
      " 0.00675892 0.00431229]\n"
     ]
    }
   ],
   "source": [
    "clf = RandomForestClassifier(n_estimators=100)\n",
    "clf = clf.fit(X, y)\n",
    "print(clf.feature_importances_)  \n"
   ]
  },
  {
   "cell_type": "code",
   "execution_count": 60,
   "metadata": {
    "colab": {
     "base_uri": "https://localhost:8080/"
    },
    "executionInfo": {
     "elapsed": 333,
     "status": "ok",
     "timestamp": 1654539471192,
     "user": {
      "displayName": "Stefan Ivaylov Patchaliev",
      "userId": "04041732830524781224"
     },
     "user_tz": -120
    },
    "id": "57yqZzBp98sF",
    "outputId": "76ac98cb-085b-448c-e8eb-458effc4ebc4"
   },
   "outputs": [
    {
     "name": "stdout",
     "output_type": "stream",
     "text": [
      "(1000, 4)\n",
      "0.593\n",
      "0.593\n"
     ]
    }
   ],
   "source": [
    "from sklearn.feature_selection import SelectFromModel\n",
    "\n",
    "model = SelectFromModel(clf, prefit=True, threshold=0.05)\n",
    "X_new = model.transform(X)\n",
    "print(X_new.shape)\n",
    "\n",
    "print(np.mean(cross_val_score(KNeighborsClassifier(), X=X, y=y, cv=cv, scoring='accuracy')))\n",
    "print(np.mean(cross_val_score(KNeighborsClassifier(), X=X_new, y=y, cv=cv, scoring='accuracy')))"
   ]
  },
  {
   "cell_type": "code",
   "execution_count": 61,
   "metadata": {
    "colab": {
     "base_uri": "https://localhost:8080/",
     "height": 282
    },
    "executionInfo": {
     "elapsed": 562106,
     "status": "ok",
     "timestamp": 1654540033296,
     "user": {
      "displayName": "Stefan Ivaylov Patchaliev",
      "userId": "04041732830524781224"
     },
     "user_tz": -120
    },
    "id": "VXdp649u9-m9",
    "outputId": "f347eba5-7610-48be-bd46-75cb70360fc3"
   },
   "outputs": [
    {
     "data": {
      "image/png": "[encoded data removed]",
      "text/plain": [
       "<Figure size 432x288 with 1 Axes>"
      ]
     },
     "metadata": {
      "needs_background": "light"
     },
     "output_type": "display_data"
    },
    {
     "name": "stdout",
     "output_type": "stream",
     "text": [
      "Best threshold:  0.08508229842599992\n"
     ]
    }
   ],
   "source": [
    "thresholds=clf.feature_importances_\n",
    "\n",
    "l=[]\n",
    "lparval=[]\n",
    "for threshold in thresholds:\n",
    "    model = SelectFromModel(clf, prefit=True, threshold=threshold)\n",
    "    X_new = model.transform(X)\n",
    "    params = {'n_neighbors':list(range(1,30,2)), 'weights':('distance','uniform')}\n",
    "    knc = KNeighborsClassifier()\n",
    "    clf2 = GridSearchCV(knc, param_grid=params,cv=cv,n_jobs=-1)  # If cv is integer, by default is Stratifyed \n",
    "    clf2.fit(X, y)\n",
    "    parval=clf2.best_params_\n",
    "    clf3 = KNeighborsClassifier(n_neighbors=parval['n_neighbors'],weights=parval['weights'])\n",
    "    acc = np.mean(cross_val_score(clf3, X=X_new, y=y, cv=cv, scoring='accuracy'))\n",
    "    l.append(acc)\n",
    "    lparval.append(parval)\n",
    "    \n",
    "plt.scatter(thresholds,l)\n",
    "plt.show()\n",
    "\n",
    "print('Best threshold: ',thresholds[np.argmax(l)])"
   ]
  },
  {
   "cell_type": "code",
   "execution_count": 62,
   "metadata": {
    "colab": {
     "base_uri": "https://localhost:8080/"
    },
    "executionInfo": {
     "elapsed": 452,
     "status": "ok",
     "timestamp": 1654540033745,
     "user": {
      "displayName": "Stefan Ivaylov Patchaliev",
      "userId": "04041732830524781224"
     },
     "user_tz": -120
    },
    "id": "QIp4ai51-Bad",
    "outputId": "8746101f-51e8-499f-8bcb-1db982b408e8"
   },
   "outputs": [
    {
     "name": "stdout",
     "output_type": "stream",
     "text": [
      "(1000, 2)\n",
      "Original:  0.5549999999999999\n",
      "With FS:  0.639\n"
     ]
    }
   ],
   "source": [
    "parval=lparval[np.argmax(l)]\n",
    "model = SelectFromModel(clf, prefit=True, threshold=thresholds[np.argmax(l)])\n",
    "X_new = model.transform(X)\n",
    "print(X_new.shape)\n",
    "\n",
    "print('Original: ', np.mean(cross_val_score(KNeighborsClassifier(n_neighbors=1), X=X, y=y, cv=cv, scoring='accuracy')))\n",
    "print('With FS: ', np.mean(cross_val_score(KNeighborsClassifier(n_neighbors=parval['n_neighbors'],weights=parval['weights']), X=X_new, y=y, cv=cv, scoring='accuracy')))"
   ]
  }
 ],
 "metadata": {
  "colab": {
   "authorship_tag": "ABX9TyP9iEVtZPmlcHUl/Z55AQKS",
   "collapsed_sections": [],
   "name": "meta.ipynb",
   "provenance": []
  },
  "kernelspec": {
   "display_name": "Python 3 (ipykernel)",
   "language": "python",
   "name": "python3"
  },
  "language_info": {
   "codemirror_mode": {
    "name": "ipython",
    "version": 3
   },
   "file_extension": ".py",
   "mimetype": "text/x-python",
   "name": "python",
   "nbconvert_exporter": "python",
   "pygments_lexer": "ipython3",
   "version": "3.9.0"
  }
 },
 "nbformat": 4,
 "nbformat_minor": 1
}
