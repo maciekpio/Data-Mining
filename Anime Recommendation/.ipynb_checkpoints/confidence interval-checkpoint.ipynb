{
 "cells": [
  {
   "cell_type": "code",
   "execution_count": 3,
   "id": "a1fa4e52",
   "metadata": {},
   "outputs": [
    {
     "name": "stdout",
     "output_type": "stream",
     "text": [
      "[Q2] 95% confidence interval for Naïve Bayes :: 0.441, 0.579\n"
     ]
    }
   ],
   "source": [
    "from scipy.stats import norm\n",
    "import numpy as np\n",
    "\n",
    "n = 200\n",
    "alpha = 0.05\n",
    "test_acc=0.51\n",
    "z_n = norm.ppf(1 - alpha / 2)\n",
    "sigma = np.sqrt(test_acc * (1 - test_acc) / n)\n",
    "lower = test_acc - z_n * sigma\n",
    "upper = test_acc + z_n * sigma\n",
    "print(\n",
    "    f\" 95% confidence interval for Naïve Bayes :: {lower:.3f}, {upper:.3f}\"\n",
    ")"
   ]
  },
  {
   "cell_type": "code",
   "execution_count": 4,
   "id": "aff93ec1",
   "metadata": {},
   "outputs": [
    {
     "name": "stdout",
     "output_type": "stream",
     "text": [
      "[Q2] 95% confidence interval for K-NN :: 0.636, 0.764\n"
     ]
    }
   ],
   "source": [
    "n = 200\n",
    "alpha = 0.05\n",
    "test_acc=0.7\n",
    "z_n = norm.ppf(1 - alpha / 2)\n",
    "sigma = np.sqrt(test_acc * (1 - test_acc) / n)\n",
    "lower = test_acc - z_n * sigma\n",
    "upper = test_acc + z_n * sigma\n",
    "print(\n",
    "    f\" 95% confidence interval for K-NN :: {lower:.3f}, {upper:.3f}\"\n",
    ")"
   ]
  },
  {
   "cell_type": "code",
   "execution_count": 5,
   "id": "768af03d",
   "metadata": {},
   "outputs": [
    {
     "name": "stdout",
     "output_type": "stream",
     "text": [
      "[Q2] 95% confidence interval for Decision trees :: 0.668, 0.792\n"
     ]
    }
   ],
   "source": [
    "n = 200\n",
    "alpha = 0.05\n",
    "test_acc=0.73\n",
    "z_n = norm.ppf(1 - alpha / 2)\n",
    "sigma = np.sqrt(test_acc * (1 - test_acc) / n)\n",
    "lower = test_acc - z_n * sigma\n",
    "upper = test_acc + z_n * sigma\n",
    "print(\n",
    "    f\" 95% confidence interval for Decision trees :: {lower:.3f}, {upper:.3f}\"\n",
    ")"
   ]
  },
  {
   "cell_type": "code",
   "execution_count": 8,
   "id": "992c424d",
   "metadata": {},
   "outputs": [
    {
     "name": "stdout",
     "output_type": "stream",
     "text": [
      "[Q2] 95% confidence interval for SVM :: 0.590, 0.690\n"
     ]
    }
   ],
   "source": [
    "n = 350\n",
    "alpha = 0.05\n",
    "test_acc=0.64\n",
    "z_n = norm.ppf(1 - alpha / 2)\n",
    "sigma = np.sqrt(test_acc * (1 - test_acc) / n)\n",
    "lower = test_acc - z_n * sigma\n",
    "upper = test_acc + z_n * sigma\n",
    "print(\n",
    "    f\" 95% confidence interval for SVM :: {lower:.3f}, {upper:.3f}\"\n",
    ")"
   ]
  },
  {
   "cell_type": "code",
   "execution_count": 12,
   "id": "c252057e",
   "metadata": {},
   "outputs": [
    {
     "name": "stdout",
     "output_type": "stream",
     "text": [
      " 95% confidence interval for Meta-Learning :: 0.652, 0.778\n"
     ]
    }
   ],
   "source": [
    "n = 200\n",
    "alpha = 0.05\n",
    "test_acc=0.715\n",
    "z_n = norm.ppf(1 - alpha / 2)\n",
    "sigma = np.sqrt(test_acc * (1 - test_acc) / n)\n",
    "lower = test_acc - z_n * sigma\n",
    "upper = test_acc + z_n * sigma\n",
    "print(\n",
    "    f\" 95% confidence interval for Meta-Learning :: {lower:.3f}, {upper:.3f}\"\n",
    ")"
   ]
  }
 ],
 "metadata": {
  "kernelspec": {
   "display_name": "Python 3 (ipykernel)",
   "language": "python",
   "name": "python3"
  },
  "language_info": {
   "codemirror_mode": {
    "name": "ipython",
    "version": 3
   },
   "file_extension": ".py",
   "mimetype": "text/x-python",
   "name": "python",
   "nbconvert_exporter": "python",
   "pygments_lexer": "ipython3",
   "version": "3.9.0"
  }
 },
 "nbformat": 4,
 "nbformat_minor": 5
}
